{
 "cells": [
  {
   "cell_type": "code",
   "execution_count": 189,
   "id": "c369f554",
   "metadata": {},
   "outputs": [],
   "source": [
    "import numpy as np\n",
    "import pandas as pd"
   ]
  },
  {
   "cell_type": "code",
   "execution_count": 190,
   "id": "7afd20a9",
   "metadata": {},
   "outputs": [
    {
     "data": {
      "text/plain": [
       "(21626, 20)"
      ]
     },
     "execution_count": 190,
     "metadata": {},
     "output_type": "execute_result"
    }
   ],
   "source": [
    "shootings = pd.read_csv('historic_incident_with_zipcode.csv')\n",
    "# Shape\n",
    "shootings.shape"
   ]
  },
  {
   "cell_type": "code",
   "execution_count": 191,
   "id": "39815fc4",
   "metadata": {},
   "outputs": [
    {
     "name": "stdout",
     "output_type": "stream",
     "text": [
      "<class 'pandas.core.frame.DataFrame'>\n",
      "RangeIndex: 21626 entries, 0 to 21625\n",
      "Data columns (total 20 columns):\n",
      " #   Column                   Non-Null Count  Dtype  \n",
      "---  ------                   --------------  -----  \n",
      " 0   INCIDENT_KEY             21626 non-null  int64  \n",
      " 1   OCCUR_DATE               21626 non-null  object \n",
      " 2   OCCUR_TIME               21626 non-null  object \n",
      " 3   BORO                     21626 non-null  object \n",
      " 4   PRECINCT                 21626 non-null  int64  \n",
      " 5   JURISDICTION_CODE        21624 non-null  float64\n",
      " 6   LOCATION_DESC            9265 non-null   object \n",
      " 7   STATISTICAL_MURDER_FLAG  21626 non-null  bool   \n",
      " 8   PERP_AGE_GROUP           14321 non-null  object \n",
      " 9   PERP_SEX                 14355 non-null  object \n",
      " 10  PERP_RACE                14355 non-null  object \n",
      " 11  VIC_AGE_GROUP            21626 non-null  object \n",
      " 12  VIC_SEX                  21626 non-null  object \n",
      " 13  VIC_RACE                 21626 non-null  object \n",
      " 14  X_COORD_CD               21626 non-null  int64  \n",
      " 15  Y_COORD_CD               21626 non-null  int64  \n",
      " 16  Latitude                 21626 non-null  float64\n",
      " 17  Longitude                21626 non-null  float64\n",
      " 18  Lon_Lat                  21626 non-null  object \n",
      " 19  ZipCode                  21626 non-null  int64  \n",
      "dtypes: bool(1), float64(3), int64(5), object(11)\n",
      "memory usage: 3.2+ MB\n"
     ]
    }
   ],
   "source": [
    "shootings.info()"
   ]
  },
  {
   "cell_type": "code",
   "execution_count": 192,
   "id": "9695fd9d",
   "metadata": {},
   "outputs": [
    {
     "data": {
      "text/plain": [
       "<bound method DataFrame.info of        INCIDENT_KEY  OCCUR_DATE OCCUR_TIME           BORO  PRECINCT  \\\n",
       "0         201575314  08/23/2019   22:10:00         QUEENS       103   \n",
       "1         205748546  11/27/2019   15:54:00          BRONX        40   \n",
       "2         193118596  02/02/2019   19:40:00      MANHATTAN        23   \n",
       "3         204192600  10/24/2019   00:52:00  STATEN ISLAND       121   \n",
       "4         201483468  08/22/2019   18:03:00          BRONX        46   \n",
       "...             ...         ...        ...            ...       ...   \n",
       "21621      25170411  11/05/2006    4:50:00      MANHATTAN        28   \n",
       "21622     191681185  12/28/2018   21:52:00          BRONX        40   \n",
       "21623      63381856  07/04/2009   16:00:00       BROOKLYN        67   \n",
       "21624      92673375  09/17/2013    8:08:00      MANHATTAN        24   \n",
       "21625      28460611  04/15/2007    1:05:00      MANHATTAN        33   \n",
       "\n",
       "       JURISDICTION_CODE              LOCATION_DESC  STATISTICAL_MURDER_FLAG  \\\n",
       "0                    0.0                        NaN                    False   \n",
       "1                    0.0                        NaN                    False   \n",
       "2                    0.0                        NaN                    False   \n",
       "3                    0.0                  PVT HOUSE                     True   \n",
       "4                    0.0                        NaN                    False   \n",
       "...                  ...                        ...                      ...   \n",
       "21621                0.0    MULTI DWELL - APT BUILD                     True   \n",
       "21622                0.0                        NaN                    False   \n",
       "21623                0.0                        NaN                    False   \n",
       "21624                0.0  MULTI DWELL - PUBLIC HOUS                     True   \n",
       "21625                0.0                        NaN                    False   \n",
       "\n",
       "      PERP_AGE_GROUP PERP_SEX       PERP_RACE VIC_AGE_GROUP VIC_SEX  \\\n",
       "0                NaN      NaN             NaN         25-44       M   \n",
       "1                <18        M           BLACK         25-44       F   \n",
       "2              18-24        M  WHITE HISPANIC         18-24       M   \n",
       "3              25-44        M           BLACK         25-44       F   \n",
       "4              25-44        M  BLACK HISPANIC         18-24       M   \n",
       "...              ...      ...             ...           ...     ...   \n",
       "21621            NaN      NaN             NaN         25-44       M   \n",
       "21622            NaN      NaN             NaN         45-64       M   \n",
       "21623          25-44        M           BLACK         25-44       M   \n",
       "21624            NaN      NaN             NaN         45-64       M   \n",
       "21625            <18        M  WHITE HISPANIC           <18       M   \n",
       "\n",
       "             VIC_RACE  X_COORD_CD  Y_COORD_CD   Latitude  Longitude  \\\n",
       "0               BLACK     1037451      193561  40.697805 -73.808141   \n",
       "1               BLACK     1006789      237559  40.818700 -73.918571   \n",
       "2      BLACK HISPANIC      999347      227795  40.791916 -73.945480   \n",
       "3               BLACK      938149      171781  40.638064 -74.166108   \n",
       "4               BLACK     1008224      250621  40.854547 -73.913339   \n",
       "...               ...         ...         ...        ...        ...   \n",
       "21621           BLACK      999934      233568  40.807760 -73.943346   \n",
       "21622           BLACK     1006669      233631  40.807919 -73.919017   \n",
       "21623           BLACK      998387      174639  40.646017 -73.949058   \n",
       "21624  WHITE HISPANIC      993290      230079  40.798193 -73.967351   \n",
       "21625  BLACK HISPANIC     1002051      245311  40.839988 -73.935668   \n",
       "\n",
       "                                             Lon_Lat  ZipCode  \n",
       "0      POINT (-73.80814071699996 40.697805308000056)    11435  \n",
       "1       POINT (-73.91857061799993 40.81869973000005)    10451  \n",
       "2      POINT (-73.94547965999999 40.791916091000076)    10029  \n",
       "3       POINT (-74.16610830199996 40.63806398200006)    10303  \n",
       "4       POINT (-73.91333944399999 40.85454734900003)    10453  \n",
       "...                                              ...      ...  \n",
       "21621        POINT (-73.943346267 40.80776037800007)    10027  \n",
       "21622               POINT (-73.91901728 40.80791877)    10454  \n",
       "21623  POINT (-73.94905826799999 40.646017278000045)    11235  \n",
       "21624  POINT (-73.96735102799995 40.798193324000074)    10025  \n",
       "21625  POINT (-73.93566789499994 40.839987567000044)    10032  \n",
       "\n",
       "[21626 rows x 20 columns]>"
      ]
     },
     "execution_count": 192,
     "metadata": {},
     "output_type": "execute_result"
    }
   ],
   "source": [
    "shootings.info"
   ]
  },
  {
   "cell_type": "code",
   "execution_count": 193,
   "id": "d03c83fe",
   "metadata": {},
   "outputs": [
    {
     "name": "stdout",
     "output_type": "stream",
     "text": [
      "<class 'pandas.core.frame.DataFrame'>\n",
      "RangeIndex: 21626 entries, 0 to 21625\n",
      "Data columns (total 20 columns):\n",
      " #   Column                   Non-Null Count  Dtype  \n",
      "---  ------                   --------------  -----  \n",
      " 0   INCIDENT_KEY             21626 non-null  int64  \n",
      " 1   OCCUR_DATE               21626 non-null  object \n",
      " 2   OCCUR_TIME               21626 non-null  object \n",
      " 3   BORO                     21626 non-null  object \n",
      " 4   PRECINCT                 21626 non-null  int64  \n",
      " 5   JURISDICTION_CODE        21624 non-null  float64\n",
      " 6   LOCATION_DESC            9265 non-null   object \n",
      " 7   STATISTICAL_MURDER_FLAG  21626 non-null  bool   \n",
      " 8   PERP_AGE_GROUP           14321 non-null  object \n",
      " 9   PERP_SEX                 14355 non-null  object \n",
      " 10  PERP_RACE                14355 non-null  object \n",
      " 11  VIC_AGE_GROUP            21626 non-null  object \n",
      " 12  VIC_SEX                  21626 non-null  object \n",
      " 13  VIC_RACE                 21626 non-null  object \n",
      " 14  X_COORD_CD               21626 non-null  int64  \n",
      " 15  Y_COORD_CD               21626 non-null  int64  \n",
      " 16  Latitude                 21626 non-null  float64\n",
      " 17  Longitude                21626 non-null  float64\n",
      " 18  Lon_Lat                  21626 non-null  object \n",
      " 19  ZipCode                  21626 non-null  int64  \n",
      "dtypes: bool(1), float64(3), int64(5), object(11)\n",
      "memory usage: 3.2+ MB\n"
     ]
    }
   ],
   "source": [
    "shootings.info()"
   ]
  },
  {
   "cell_type": "code",
   "execution_count": 194,
   "id": "322ce26c",
   "metadata": {},
   "outputs": [
    {
     "data": {
      "text/plain": [
       "Index(['INCIDENT_KEY', 'OCCUR_DATE', 'OCCUR_TIME', 'BORO', 'PRECINCT',\n",
       "       'JURISDICTION_CODE', 'LOCATION_DESC', 'STATISTICAL_MURDER_FLAG',\n",
       "       'PERP_AGE_GROUP', 'PERP_SEX', 'PERP_RACE', 'VIC_AGE_GROUP', 'VIC_SEX',\n",
       "       'VIC_RACE', 'X_COORD_CD', 'Y_COORD_CD', 'Latitude', 'Longitude',\n",
       "       'Lon_Lat', 'ZipCode'],\n",
       "      dtype='object')"
      ]
     },
     "execution_count": 194,
     "metadata": {},
     "output_type": "execute_result"
    }
   ],
   "source": [
    "shootings.columns"
   ]
  },
  {
   "cell_type": "code",
   "execution_count": 195,
   "id": "f4fe3cd4",
   "metadata": {},
   "outputs": [
    {
     "data": {
      "text/plain": [
       "False"
      ]
     },
     "execution_count": 195,
     "metadata": {},
     "output_type": "execute_result"
    }
   ],
   "source": [
    "## Checking if the incident key is unique or not\n",
    "shootings['INCIDENT_KEY'].is_unique"
   ]
  },
  {
   "cell_type": "code",
   "execution_count": 196,
   "id": "81230528",
   "metadata": {},
   "outputs": [],
   "source": [
    "## Removing all the duplicate entries\n",
    "\n",
    "shootings = shootings.drop_duplicates(subset=['INCIDENT_KEY'])"
   ]
  },
  {
   "cell_type": "code",
   "execution_count": 197,
   "id": "6e1cbf76",
   "metadata": {},
   "outputs": [
    {
     "data": {
      "text/plain": [
       "True"
      ]
     },
     "execution_count": 197,
     "metadata": {},
     "output_type": "execute_result"
    }
   ],
   "source": [
    "## Checking if the incident key is unique or not\n",
    "shootings['INCIDENT_KEY'].is_unique"
   ]
  },
  {
   "cell_type": "code",
   "execution_count": 198,
   "id": "746f00c7",
   "metadata": {},
   "outputs": [
    {
     "data": {
      "text/plain": [
       "(17031, 20)"
      ]
     },
     "execution_count": 198,
     "metadata": {},
     "output_type": "execute_result"
    }
   ],
   "source": [
    "shootings.shape"
   ]
  },
  {
   "cell_type": "code",
   "execution_count": 199,
   "id": "95fb2d30",
   "metadata": {},
   "outputs": [
    {
     "data": {
      "text/plain": [
       "INCIDENT_KEY                  0\n",
       "OCCUR_DATE                    0\n",
       "OCCUR_TIME                    0\n",
       "BORO                          0\n",
       "PRECINCT                      0\n",
       "JURISDICTION_CODE             2\n",
       "LOCATION_DESC              9907\n",
       "STATISTICAL_MURDER_FLAG       0\n",
       "PERP_AGE_GROUP             6369\n",
       "PERP_SEX                   6339\n",
       "PERP_RACE                  6339\n",
       "VIC_AGE_GROUP                 0\n",
       "VIC_SEX                       0\n",
       "VIC_RACE                      0\n",
       "X_COORD_CD                    0\n",
       "Y_COORD_CD                    0\n",
       "Latitude                      0\n",
       "Longitude                     0\n",
       "Lon_Lat                       0\n",
       "ZipCode                       0\n",
       "dtype: int64"
      ]
     },
     "execution_count": 199,
     "metadata": {},
     "output_type": "execute_result"
    }
   ],
   "source": [
    "# checking for null values in the features\n",
    "shootings.isna().sum()"
   ]
  },
  {
   "cell_type": "code",
   "execution_count": 200,
   "id": "2c1bcf3e",
   "metadata": {},
   "outputs": [
    {
     "data": {
      "text/plain": [
       "INCIDENT_KEY                0.000000\n",
       "OCCUR_DATE                  0.000000\n",
       "OCCUR_TIME                  0.000000\n",
       "BORO                        0.000000\n",
       "PRECINCT                    0.000000\n",
       "JURISDICTION_CODE           0.011743\n",
       "LOCATION_DESC              58.170395\n",
       "STATISTICAL_MURDER_FLAG     0.000000\n",
       "PERP_AGE_GROUP             37.396512\n",
       "PERP_SEX                   37.220363\n",
       "PERP_RACE                  37.220363\n",
       "VIC_AGE_GROUP               0.000000\n",
       "VIC_SEX                     0.000000\n",
       "VIC_RACE                    0.000000\n",
       "X_COORD_CD                  0.000000\n",
       "Y_COORD_CD                  0.000000\n",
       "Latitude                    0.000000\n",
       "Longitude                   0.000000\n",
       "Lon_Lat                     0.000000\n",
       "ZipCode                     0.000000\n",
       "dtype: float64"
      ]
     },
     "execution_count": 200,
     "metadata": {},
     "output_type": "execute_result"
    }
   ],
   "source": [
    "# Calculating the null values present in the data columnwise (with respect to the features)\n",
    "\n",
    "100 * shootings.isnull().sum()/len(shootings)"
   ]
  },
  {
   "cell_type": "code",
   "execution_count": 201,
   "id": "0865a3b2",
   "metadata": {},
   "outputs": [
    {
     "name": "stdout",
     "output_type": "stream",
     "text": [
      "BLACK                             0.647119\n",
      "UNKNOWN                           0.151235\n",
      "WHITE HISPANIC                    0.113449\n",
      "BLACK HISPANIC                    0.064721\n",
      "WHITE                             0.017583\n",
      "ASIAN / PACIFIC ISLANDER          0.005705\n",
      "AMERICAN INDIAN/ALASKAN NATIVE    0.000187\n",
      "Name: PERP_RACE, dtype: float64\n"
     ]
    },
    {
     "name": "stderr",
     "output_type": "stream",
     "text": [
      "c:\\users\\rusha\\appdata\\local\\programs\\python\\python37\\lib\\site-packages\\pandas\\core\\indexing.py:1676: SettingWithCopyWarning: \n",
      "A value is trying to be set on a copy of a slice from a DataFrame.\n",
      "Try using .loc[row_indexer,col_indexer] = value instead\n",
      "\n",
      "See the caveats in the documentation: https://pandas.pydata.org/pandas-docs/stable/user_guide/indexing.html#returning-a-view-versus-a-copy\n",
      "  self._setitem_single_column(ilocs[0], value, pi)\n"
     ]
    },
    {
     "data": {
      "text/plain": [
       "BLACK                             11055\n",
       "UNKNOWN                            2573\n",
       "WHITE HISPANIC                     1939\n",
       "BLACK HISPANIC                     1081\n",
       "WHITE                               285\n",
       "ASIAN / PACIFIC ISLANDER             95\n",
       "AMERICAN INDIAN/ALASKAN NATIVE        3\n",
       "Name: PERP_RACE, dtype: int64"
      ]
     },
     "execution_count": 201,
     "metadata": {},
     "output_type": "execute_result"
    }
   ],
   "source": [
    "# Passing 'PERP_RACE' dataframe to look for null values.\n",
    "# Function returns 'PERP_RACE' without null values.\n",
    "\n",
    "col = 'PERP_RACE'\n",
    "shootings[col].value_counts()\n",
    "s = shootings[col].value_counts(normalize=True)\n",
    "\n",
    "print(s)\n",
    "\n",
    "missing = shootings[col].isnull()\n",
    "\n",
    "shootings.loc[missing,col] = np.random.choice(s.index, size=len(shootings[missing]),p=s.values)\n",
    "\n",
    "shootings[col].value_counts()\n"
   ]
  },
  {
   "cell_type": "code",
   "execution_count": 202,
   "id": "f3ce27b1",
   "metadata": {},
   "outputs": [
    {
     "name": "stdout",
     "output_type": "stream",
     "text": [
      "18-24      0.342619\n",
      "25-44      0.286250\n",
      "UNKNOWN    0.256706\n",
      "<18        0.083474\n",
      "45-64      0.027293\n",
      "65+        0.003376\n",
      "1020       0.000094\n",
      "940        0.000094\n",
      "224        0.000094\n",
      "Name: PERP_AGE_GROUP, dtype: float64\n"
     ]
    },
    {
     "data": {
      "text/plain": [
       "18-24      5813\n",
       "25-44      4861\n",
       "UNKNOWN    4396\n",
       "<18        1405\n",
       "45-64       486\n",
       "65+          67\n",
       "1020          1\n",
       "940           1\n",
       "224           1\n",
       "Name: PERP_AGE_GROUP, dtype: int64"
      ]
     },
     "execution_count": 202,
     "metadata": {},
     "output_type": "execute_result"
    }
   ],
   "source": [
    "# cleaning perp age group\n",
    "\n",
    "# returns perp age group with 0 null values\n",
    "\n",
    "col = 'PERP_AGE_GROUP'\n",
    "shootings[col].value_counts()\n",
    "s = shootings[col].value_counts(normalize=True)\n",
    "\n",
    "print(s)\n",
    "\n",
    "missing = shootings[col].isnull()\n",
    "\n",
    "shootings.loc[missing,col] = np.random.choice(s.index, size=len(shootings[missing]),p = s.values)\n",
    "\n",
    "\n",
    "shootings[col].value_counts()"
   ]
  },
  {
   "cell_type": "code",
   "execution_count": 203,
   "id": "bb6e885f",
   "metadata": {},
   "outputs": [
    {
     "name": "stderr",
     "output_type": "stream",
     "text": [
      "c:\\users\\rusha\\appdata\\local\\programs\\python\\python37\\lib\\site-packages\\pandas\\core\\frame.py:4315: SettingWithCopyWarning: \n",
      "A value is trying to be set on a copy of a slice from a DataFrame\n",
      "\n",
      "See the caveats in the documentation: https://pandas.pydata.org/pandas-docs/stable/user_guide/indexing.html#returning-a-view-versus-a-copy\n",
      "  errors=errors,\n"
     ]
    },
    {
     "data": {
      "text/plain": [
       "18-24      5813\n",
       "25-44      4861\n",
       "UNKNOWN    4396\n",
       "<18        1405\n",
       "45-64       486\n",
       "65+          67\n",
       "1020          1\n",
       "940           1\n",
       "Name: PERP_AGE_GROUP, dtype: int64"
      ]
     },
     "execution_count": 203,
     "metadata": {},
     "output_type": "execute_result"
    }
   ],
   "source": [
    "# cleaning perp age  - contains outliers\n",
    "\n",
    "\n",
    "# perp age outlier value\n",
    "\n",
    "# returns perp age without outliers\n",
    "\n",
    "\n",
    "shootings.drop(shootings.loc[shootings['PERP_AGE_GROUP']=='224'].index, inplace=True)\n",
    "shootings['PERP_AGE_GROUP'].value_counts()"
   ]
  },
  {
   "cell_type": "code",
   "execution_count": 204,
   "id": "3fa14608",
   "metadata": {},
   "outputs": [
    {
     "data": {
      "text/plain": [
       "18-24      5813\n",
       "25-44      4861\n",
       "UNKNOWN    4396\n",
       "<18        1405\n",
       "45-64       486\n",
       "65+          67\n",
       "1020          1\n",
       "Name: PERP_AGE_GROUP, dtype: int64"
      ]
     },
     "execution_count": 204,
     "metadata": {},
     "output_type": "execute_result"
    }
   ],
   "source": [
    "# perp age outlier value\n",
    "\n",
    "# 940 value\n",
    "\n",
    "shootings.drop(shootings.loc[shootings['PERP_AGE_GROUP']=='940'].index, inplace=True)\n",
    "shootings['PERP_AGE_GROUP'].value_counts()"
   ]
  },
  {
   "cell_type": "code",
   "execution_count": 205,
   "id": "b18b0f25",
   "metadata": {},
   "outputs": [
    {
     "data": {
      "text/plain": [
       "18-24      5813\n",
       "25-44      4861\n",
       "UNKNOWN    4396\n",
       "<18        1405\n",
       "45-64       486\n",
       "65+          67\n",
       "Name: PERP_AGE_GROUP, dtype: int64"
      ]
     },
     "execution_count": 205,
     "metadata": {},
     "output_type": "execute_result"
    }
   ],
   "source": [
    "# 1000+ value\n",
    "\n",
    "\n",
    "shootings.drop(shootings.loc[shootings['PERP_AGE_GROUP']=='1020'].index, inplace=True)\n",
    "shootings['PERP_AGE_GROUP'].value_counts()"
   ]
  },
  {
   "cell_type": "code",
   "execution_count": 206,
   "id": "1968fa47",
   "metadata": {},
   "outputs": [
    {
     "data": {
      "text/plain": [
       "M    9178\n",
       "U    1350\n",
       "F     161\n",
       "Name: PERP_SEX, dtype: int64"
      ]
     },
     "execution_count": 206,
     "metadata": {},
     "output_type": "execute_result"
    }
   ],
   "source": [
    "# checking values in perp sex\n",
    "\n",
    "shootings['PERP_SEX'].value_counts()"
   ]
  },
  {
   "cell_type": "code",
   "execution_count": 207,
   "id": "8821b20c",
   "metadata": {},
   "outputs": [
    {
     "name": "stdout",
     "output_type": "stream",
     "text": [
      "M    0.858640\n",
      "U    0.126298\n",
      "F    0.015062\n",
      "Name: PERP_SEX, dtype: float64\n"
     ]
    },
    {
     "data": {
      "text/plain": [
       "M    14664\n",
       "U     2109\n",
       "F      255\n",
       "Name: PERP_SEX, dtype: int64"
      ]
     },
     "execution_count": 207,
     "metadata": {},
     "output_type": "execute_result"
    }
   ],
   "source": [
    "# cleaning perp_sex\n",
    "\n",
    "# returns perp_sex without null values\n",
    "\n",
    "col = 'PERP_SEX'\n",
    "shootings[col].value_counts()\n",
    "s = shootings[col].value_counts(normalize=True)\n",
    "\n",
    "print(s)\n",
    "\n",
    "missing = shootings[col].isnull()\n",
    "shootings.loc[missing,col] = np.random.choice(s.index, size=len(shootings[missing]), p = s.values)\n",
    "\n",
    "shootings[col].value_counts()"
   ]
  },
  {
   "cell_type": "code",
   "execution_count": 208,
   "id": "c4116c66",
   "metadata": {},
   "outputs": [
    {
     "data": {
      "text/plain": [
       "MULTI DWELL - PUBLIC HOUS    3090\n",
       "MULTI DWELL - APT BUILD      1810\n",
       "PVT HOUSE                     560\n",
       "GROCERY/BODEGA                403\n",
       "BAR/NIGHT CLUB                380\n",
       "COMMERCIAL BLDG               155\n",
       "RESTAURANT/DINER              144\n",
       "NONE                          140\n",
       "FAST FOOD                      76\n",
       "BEAUTY/NAIL SALON              73\n",
       "GAS STATION                    44\n",
       "SOCIAL CLUB/POLICY LOCATI      40\n",
       "STORE UNCLASSIFIED             26\n",
       "DRY CLEANER/LAUNDRY            23\n",
       "LIQUOR STORE                   22\n",
       "HOSPITAL                       20\n",
       "SMALL MERCHANT                 16\n",
       "HOTEL/MOTEL                    14\n",
       "SUPERMARKET                    14\n",
       "VARIETY STORE                  10\n",
       "CLOTHING BOUTIQUE              10\n",
       "JEWELRY STORE                   9\n",
       "DRUG STORE                      7\n",
       "CANDY STORE                     5\n",
       "FACTORY/WAREHOUSE               4\n",
       "CHAIN STORE                     4\n",
       "SHOE STORE                      4\n",
       "DEPT STORE                      3\n",
       "GYM/FITNESS FACILITY            3\n",
       "TELECOMM. STORE                 2\n",
       "VIDEO STORE                     2\n",
       "LOAN COMPANY                    1\n",
       "STORAGE FACILITY                1\n",
       "BANK                            1\n",
       "ATM                             1\n",
       "PHOTO/COPY STORE                1\n",
       "SCHOOL                          1\n",
       "DOCTOR/DENTIST                  1\n",
       "CHECK CASH                      1\n",
       "Name: LOCATION_DESC, dtype: int64"
      ]
     },
     "execution_count": 208,
     "metadata": {},
     "output_type": "execute_result"
    }
   ],
   "source": [
    "# cleaning desc\n",
    "\n",
    "\n",
    "shootings['LOCATION_DESC'].value_counts()"
   ]
  },
  {
   "cell_type": "code",
   "execution_count": 209,
   "id": "fe8e905a",
   "metadata": {
    "scrolled": true
   },
   "outputs": [
    {
     "name": "stdout",
     "output_type": "stream",
     "text": [
      "MULTI DWELL - PUBLIC HOUS    0.433928\n",
      "MULTI DWELL - APT BUILD      0.254178\n",
      "PVT HOUSE                    0.078641\n",
      "GROCERY/BODEGA               0.056593\n",
      "BAR/NIGHT CLUB               0.053363\n",
      "COMMERCIAL BLDG              0.021767\n",
      "RESTAURANT/DINER             0.020222\n",
      "NONE                         0.019660\n",
      "FAST FOOD                    0.010673\n",
      "BEAUTY/NAIL SALON            0.010251\n",
      "GAS STATION                  0.006179\n",
      "SOCIAL CLUB/POLICY LOCATI    0.005617\n",
      "STORE UNCLASSIFIED           0.003651\n",
      "DRY CLEANER/LAUNDRY          0.003230\n",
      "LIQUOR STORE                 0.003089\n",
      "HOSPITAL                     0.002809\n",
      "SMALL MERCHANT               0.002247\n",
      "HOTEL/MOTEL                  0.001966\n",
      "SUPERMARKET                  0.001966\n",
      "VARIETY STORE                0.001404\n",
      "CLOTHING BOUTIQUE            0.001404\n",
      "JEWELRY STORE                0.001264\n",
      "DRUG STORE                   0.000983\n",
      "CANDY STORE                  0.000702\n",
      "FACTORY/WAREHOUSE            0.000562\n",
      "CHAIN STORE                  0.000562\n",
      "SHOE STORE                   0.000562\n",
      "DEPT STORE                   0.000421\n",
      "GYM/FITNESS FACILITY         0.000421\n",
      "TELECOMM. STORE              0.000281\n",
      "VIDEO STORE                  0.000281\n",
      "LOAN COMPANY                 0.000140\n",
      "STORAGE FACILITY             0.000140\n",
      "BANK                         0.000140\n",
      "ATM                          0.000140\n",
      "PHOTO/COPY STORE             0.000140\n",
      "SCHOOL                       0.000140\n",
      "DOCTOR/DENTIST               0.000140\n",
      "CHECK CASH                   0.000140\n",
      "Name: LOCATION_DESC, dtype: float64\n"
     ]
    },
    {
     "data": {
      "text/plain": [
       "MULTI DWELL - PUBLIC HOUS    7354\n",
       "MULTI DWELL - APT BUILD      4346\n",
       "PVT HOUSE                    1324\n",
       "GROCERY/BODEGA               1029\n",
       "BAR/NIGHT CLUB                911\n",
       "COMMERCIAL BLDG               374\n",
       "RESTAURANT/DINER              355\n",
       "NONE                          298\n",
       "BEAUTY/NAIL SALON             173\n",
       "FAST FOOD                     170\n",
       "GAS STATION                   110\n",
       "SOCIAL CLUB/POLICY LOCATI     101\n",
       "STORE UNCLASSIFIED             65\n",
       "DRY CLEANER/LAUNDRY            54\n",
       "LIQUOR STORE                   48\n",
       "HOSPITAL                       48\n",
       "SMALL MERCHANT                 39\n",
       "SUPERMARKET                    35\n",
       "VARIETY STORE                  27\n",
       "CLOTHING BOUTIQUE              26\n",
       "JEWELRY STORE                  26\n",
       "HOTEL/MOTEL                    22\n",
       "DRUG STORE                     17\n",
       "FACTORY/WAREHOUSE              14\n",
       "CHAIN STORE                     9\n",
       "SHOE STORE                      9\n",
       "CANDY STORE                     8\n",
       "DEPT STORE                      8\n",
       "GYM/FITNESS FACILITY            7\n",
       "TELECOMM. STORE                 5\n",
       "VIDEO STORE                     3\n",
       "LOAN COMPANY                    2\n",
       "BANK                            2\n",
       "ATM                             2\n",
       "PHOTO/COPY STORE                2\n",
       "SCHOOL                          2\n",
       "STORAGE FACILITY                1\n",
       "DOCTOR/DENTIST                  1\n",
       "CHECK CASH                      1\n",
       "Name: LOCATION_DESC, dtype: int64"
      ]
     },
     "execution_count": 209,
     "metadata": {},
     "output_type": "execute_result"
    }
   ],
   "source": [
    "## routine\n",
    "\n",
    "\n",
    "col = 'LOCATION_DESC'\n",
    "shootings[col].value_counts()\n",
    "s = shootings[col].value_counts(normalize=True)\n",
    "\n",
    "print(s)\n",
    "\n",
    "missing = shootings[col].isnull()\n",
    "\n",
    "shootings.loc[missing,col] = np.random.choice(s.index, size=len(shootings[missing]),p=s.values)\n",
    "\n",
    "shootings[col].value_counts()"
   ]
  },
  {
   "cell_type": "code",
   "execution_count": 210,
   "id": "fd5ed801",
   "metadata": {},
   "outputs": [
    {
     "data": {
      "text/plain": [
       "0.0    14152\n",
       "2.0     2837\n",
       "1.0       37\n",
       "Name: JURISDICTION_CODE, dtype: int64"
      ]
     },
     "execution_count": 210,
     "metadata": {},
     "output_type": "execute_result"
    }
   ],
   "source": [
    "# checking jurisdiction\n",
    "\n",
    "shootings['JURISDICTION_CODE'].value_counts()"
   ]
  },
  {
   "cell_type": "code",
   "execution_count": 211,
   "id": "492056db",
   "metadata": {},
   "outputs": [
    {
     "name": "stdout",
     "output_type": "stream",
     "text": [
      "0.0    0.831199\n",
      "2.0    0.166628\n",
      "1.0    0.002173\n",
      "Name: JURISDICTION_CODE, dtype: float64\n"
     ]
    },
    {
     "data": {
      "text/plain": [
       "0.0    14154\n",
       "2.0     2837\n",
       "1.0       37\n",
       "Name: JURISDICTION_CODE, dtype: int64"
      ]
     },
     "execution_count": 211,
     "metadata": {},
     "output_type": "execute_result"
    }
   ],
   "source": [
    "# cleaning jurisdiction\n",
    "\n",
    "col = 'JURISDICTION_CODE'\n",
    "shootings[col].value_counts()\n",
    "s = shootings[col].value_counts(normalize=True)\n",
    "\n",
    "print(s)\n",
    "\n",
    "missing = shootings[col].isnull()\n",
    "shootings.loc[missing,col] = np.random.choice(s.index, size=len(shootings[missing]),p=s.values)\n",
    "\n",
    "shootings[col].value_counts()"
   ]
  },
  {
   "cell_type": "code",
   "execution_count": 212,
   "id": "a05a6941",
   "metadata": {},
   "outputs": [
    {
     "data": {
      "text/plain": [
       "INCIDENT_KEY               0\n",
       "OCCUR_DATE                 0\n",
       "OCCUR_TIME                 0\n",
       "BORO                       0\n",
       "PRECINCT                   0\n",
       "JURISDICTION_CODE          0\n",
       "LOCATION_DESC              0\n",
       "STATISTICAL_MURDER_FLAG    0\n",
       "PERP_AGE_GROUP             0\n",
       "PERP_SEX                   0\n",
       "PERP_RACE                  0\n",
       "VIC_AGE_GROUP              0\n",
       "VIC_SEX                    0\n",
       "VIC_RACE                   0\n",
       "X_COORD_CD                 0\n",
       "Y_COORD_CD                 0\n",
       "Latitude                   0\n",
       "Longitude                  0\n",
       "Lon_Lat                    0\n",
       "ZipCode                    0\n",
       "dtype: int64"
      ]
     },
     "execution_count": 212,
     "metadata": {},
     "output_type": "execute_result"
    }
   ],
   "source": [
    "shootings.isna().sum()"
   ]
  },
  {
   "cell_type": "code",
   "execution_count": 213,
   "id": "a3b27f93",
   "metadata": {},
   "outputs": [
    {
     "data": {
      "text/plain": [
       "(17028, 20)"
      ]
     },
     "execution_count": 213,
     "metadata": {},
     "output_type": "execute_result"
    }
   ],
   "source": [
    "shootings.shape"
   ]
  },
  {
   "cell_type": "code",
   "execution_count": 214,
   "id": "57777707",
   "metadata": {},
   "outputs": [],
   "source": [
    "shootings.to_csv(\"historic_incident_with_zipcode_Cleaned.csv\")"
   ]
  },
  {
   "cell_type": "code",
   "execution_count": null,
   "id": "825ed7c5",
   "metadata": {},
   "outputs": [],
   "source": []
  }
 ],
 "metadata": {
  "kernelspec": {
   "display_name": "Python 3",
   "language": "python",
   "name": "python3"
  },
  "language_info": {
   "codemirror_mode": {
    "name": "ipython",
    "version": 3
   },
   "file_extension": ".py",
   "mimetype": "text/x-python",
   "name": "python",
   "nbconvert_exporter": "python",
   "pygments_lexer": "ipython3",
   "version": "3.7.8"
  }
 },
 "nbformat": 4,
 "nbformat_minor": 5
}
